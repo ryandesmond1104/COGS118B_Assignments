{
 "cells": [
  {
   "cell_type": "markdown",
   "id": "dec04dbf",
   "metadata": {},
   "source": [
    "# Question 2"
   ]
  },
  {
   "cell_type": "code",
   "execution_count": 1,
   "id": "23b3cb2c",
   "metadata": {},
   "outputs": [],
   "source": [
    "import numpy as np\n",
    "import scipy.io as sio\n",
    "import matplotlib\n",
    "import matplotlib.pyplot as plt\n",
    "from numpy.matlib import repmat\n",
    "from sklearn.preprocessing import normalize\n",
    "from matplotlib import cm\n",
    "from mpl_toolkits.mplot3d import Axes3D\n",
    "from sklearn.decomposition import PCA\n",
    "\n",
    "%matplotlib inline\n",
    "\n",
    "hw5data = np.loadtxt('hw5data.mat')"
   ]
  },
  {
   "cell_type": "markdown",
   "id": "5cdb1db3",
   "metadata": {},
   "source": [
    "#### a)"
   ]
  },
  {
   "cell_type": "code",
   "execution_count": 2,
   "id": "b5c0a023",
   "metadata": {},
   "outputs": [
    {
     "data": {
      "image/png": "[encoded data removed]",
      "text/plain": [
       "<Figure size 432x288 with 1 Axes>"
      ]
     },
     "metadata": {
      "needs_background": "light"
     },
     "output_type": "display_data"
    }
   ],
   "source": [
    "#i)\n",
    "matplotlib.pyplot.scatter(hw5data[0], hw5data[1], marker = '.')\n",
    "plt.title('2D Scatterplot Plot')\n",
    "plt.xlabel('X axis')\n",
    "plt.ylabel('Y axis')\n",
    "plt.savefig('hw5-3a.jpg')"
   ]
  },
  {
   "cell_type": "code",
   "execution_count": 3,
   "id": "f0cd4b4b",
   "metadata": {},
   "outputs": [],
   "source": [
    "#ii)\n",
    "mean = np.mean(hw5data, axis = 1)\n",
    "mean = mean[:, None]"
   ]
  },
  {
   "cell_type": "code",
   "execution_count": 4,
   "id": "ba739f3c",
   "metadata": {},
   "outputs": [
    {
     "data": {
      "text/plain": [
       "array([[-23.78989551],\n",
       "       [ 49.46199088]])"
      ]
     },
     "execution_count": 4,
     "metadata": {},
     "output_type": "execute_result"
    }
   ],
   "source": [
    "mean"
   ]
  },
  {
   "cell_type": "code",
   "execution_count": 5,
   "id": "07d09ebe",
   "metadata": {},
   "outputs": [
    {
     "data": {
      "text/plain": [
       "(2, 1)"
      ]
     },
     "execution_count": 5,
     "metadata": {},
     "output_type": "execute_result"
    }
   ],
   "source": [
    "mean.shape"
   ]
  },
  {
   "cell_type": "code",
   "execution_count": 6,
   "id": "40e933d4",
   "metadata": {},
   "outputs": [
    {
     "data": {
      "text/plain": [
       "(2, 2)"
      ]
     },
     "execution_count": 6,
     "metadata": {},
     "output_type": "execute_result"
    }
   ],
   "source": [
    "#iii)\n",
    "N = np.shape(hw5data)[1]\n",
    "Z = hw5data - mean\n",
    "np.mean(Z, axis = 1)\n",
    "covmatrix = Z@Z.T / N\n",
    "covmatrix.shape"
   ]
  },
  {
   "cell_type": "code",
   "execution_count": 7,
   "id": "34223f96",
   "metadata": {},
   "outputs": [
    {
     "data": {
      "text/plain": [
       "array([[34.65672591, 22.54958275],\n",
       "       [22.54958275, 52.00402712]])"
      ]
     },
     "execution_count": 7,
     "metadata": {},
     "output_type": "execute_result"
    }
   ],
   "source": [
    "covmatrix"
   ]
  },
  {
   "cell_type": "markdown",
   "id": "11e97bfb",
   "metadata": {},
   "source": [
    "#### b)"
   ]
  },
  {
   "cell_type": "code",
   "execution_count": 8,
   "id": "707c7dec",
   "metadata": {},
   "outputs": [],
   "source": [
    "#i)\n",
    "old_eig_V, old_V = np.linalg.eig(covmatrix) #this is better than \"V\" as it isolates the vals"
   ]
  },
  {
   "cell_type": "code",
   "execution_count": 9,
   "id": "4d931471",
   "metadata": {},
   "outputs": [
    {
     "data": {
      "text/plain": [
       "array([19.17016342, 67.49058962])"
      ]
     },
     "execution_count": 9,
     "metadata": {},
     "output_type": "execute_result"
    }
   ],
   "source": [
    "old_eig_V"
   ]
  },
  {
   "cell_type": "code",
   "execution_count": 10,
   "id": "a4573dfc",
   "metadata": {},
   "outputs": [
    {
     "data": {
      "text/plain": [
       "array([[-0.82431958, -0.56612474],\n",
       "       [ 0.56612474, -0.82431958]])"
      ]
     },
     "execution_count": 10,
     "metadata": {},
     "output_type": "execute_result"
    }
   ],
   "source": [
    "old_V"
   ]
  },
  {
   "cell_type": "code",
   "execution_count": 11,
   "id": "f9b9d178",
   "metadata": {},
   "outputs": [
    {
     "name": "stdout",
     "output_type": "stream",
     "text": [
      "[-0.56612474 -0.82431958]\n"
     ]
    }
   ],
   "source": [
    "#ii)\n",
    "maxcol = list(old_eig_V).index(max(old_eig_V))\n",
    "eigenvect = old_V[:,maxcol]\n",
    "print(eigenvect)"
   ]
  },
  {
   "cell_type": "code",
   "execution_count": 12,
   "id": "069b1ad1",
   "metadata": {},
   "outputs": [
    {
     "name": "stdout",
     "output_type": "stream",
     "text": [
      "[-0.82431958  0.56612474]\n"
     ]
    }
   ],
   "source": [
    "#iii)\n",
    "mincol = list(old_eig_V).index(min(old_eig_V))\n",
    "eigenvect = old_V[:,mincol]\n",
    "print(eigenvect)"
   ]
  },
  {
   "cell_type": "code",
   "execution_count": 13,
   "id": "00eae1cf",
   "metadata": {},
   "outputs": [],
   "source": [
    "#iv)\n",
    "def eigsort(V, eigvals): #provided code\n",
    "    \n",
    "    # Sort the eigenvalues from largest to smallest. Store the sorted\n",
    "    # eigenvalues in the column vector lambd.\n",
    "    lohival = np.sort(eigvals)\n",
    "    lohiindex = np.argsort(eigvals)\n",
    "    lambd = np.flip(lohival)\n",
    "    index = np.flip(lohiindex)\n",
    "    Dsort = np.diag(lambd)\n",
    "    \n",
    "    # Sort eigenvectors to correspond to the ordered eigenvalues. Store sorted\n",
    "    # eigenvectors as columns of the matrix vsort.\n",
    "    M = np.size(lambd)\n",
    "    Vsort = np.zeros((M, M))\n",
    "    for i in range(M):\n",
    "        Vsort[:,i] = V[:,index[i]]\n",
    "    return Vsort, Dsort"
   ]
  },
  {
   "cell_type": "code",
   "execution_count": 14,
   "id": "4da81d08",
   "metadata": {},
   "outputs": [],
   "source": [
    "#iv)\n",
    "new_V, new_eig_V = eigsort(old_V, old_eig_V)"
   ]
  },
  {
   "cell_type": "code",
   "execution_count": 15,
   "id": "3edc694c",
   "metadata": {},
   "outputs": [
    {
     "name": "stdout",
     "output_type": "stream",
     "text": [
      "[[-0.82431958 -0.56612474]\n",
      " [ 0.56612474 -0.82431958]]\n",
      "[[-0.56612474 -0.82431958]\n",
      " [-0.82431958  0.56612474]]\n"
     ]
    }
   ],
   "source": [
    "#iv)\n",
    "# The columns of the matrix of unsorted eigemvectors are now the \n",
    "# rows of the matrix of sorted eigenvectors\n",
    "# The matrix of sorted eigenvectors is a transpose of the matrix of unsorted eigenvectors\n",
    "print(old_V)\n",
    "print(new_V)"
   ]
  },
  {
   "cell_type": "code",
   "execution_count": 16,
   "id": "8630c3c6",
   "metadata": {},
   "outputs": [
    {
     "data": {
      "image/png": "[encoded data removed]",
      "text/plain": [
       "<Figure size 432x288 with 1 Axes>"
      ]
     },
     "metadata": {
      "needs_background": "light"
     },
     "output_type": "display_data"
    },
    {
     "name": "stdout",
     "output_type": "stream",
     "text": [
      "[1.0000000e+00 2.7193043e-32]\n"
     ]
    }
   ],
   "source": [
    "#v)\n",
    "pca = PCA(n_components = 2)\n",
    "pca_fit = pca.fit(hw5data)\n",
    "PC_values = np.arange(pca.n_components_) + 1\n",
    "plt.plot(PC_values, pca.explained_variance_ratio_, 'o-', linewidth=2, color='red')\n",
    "plt.title('Scree Plot')\n",
    "plt.xlabel('Principal Component')\n",
    "plt.ylabel('Variance Captured')\n",
    "plt.show()\n",
    "\n",
    "#The code below shows that the first principal component explains approximately 100% of the\n",
    "#total variation in the dataset while the second principal component explains an infinitely\n",
    "#small number that approximates 0% of the total variation in the dataset.\n",
    "print(pca.explained_variance_ratio_)"
   ]
  },
  {
   "cell_type": "markdown",
   "id": "bc9097d0",
   "metadata": {},
   "source": [
    "#### c)"
   ]
  },
  {
   "cell_type": "code",
   "execution_count": 17,
   "id": "ca515de0",
   "metadata": {},
   "outputs": [
    {
     "name": "stdout",
     "output_type": "stream",
     "text": [
      "[[14.1460219 ]\n",
      " [ 3.88404151]]\n"
     ]
    }
   ],
   "source": [
    "#i)\n",
    "new_coordinates = new_V.T.dot(np.array([[-35], [40]]) - mean)\n",
    "print(new_coordinates)"
   ]
  },
  {
   "cell_type": "code",
   "execution_count": 18,
   "id": "807f27c0",
   "metadata": {},
   "outputs": [
    {
     "data": {
      "image/png": "[encoded data removed]",
      "text/plain": [
       "<Figure size 432x288 with 1 Axes>"
      ]
     },
     "metadata": {
      "needs_background": "light"
     },
     "output_type": "display_data"
    }
   ],
   "source": [
    "#ii)\n",
    "C = new_V.T.dot(hw5data - mean)\n",
    "matplotlib.pyplot.scatter(C[0], C[1], marker = '.')\n",
    "plt.title('2D Scatterplot Plot')\n",
    "plt.xlabel('X axis')\n",
    "plt.ylabel('Y axis')\n",
    "plt.savefig('hw5-3c.jpg')"
   ]
  },
  {
   "cell_type": "code",
   "execution_count": 19,
   "id": "89cf3dd0",
   "metadata": {},
   "outputs": [],
   "source": [
    "#iii) The hw5-3c scatterplot is a rotated version of the hw5-3a scatterplot with it being\n",
    "#rotated approximately 45 degrees so that the new scatterplot is aligned with the new x axis\n",
    "#that matches up with the first principal component direction (or the direction of greater\n",
    "#projected variance)."
   ]
  },
  {
   "cell_type": "markdown",
   "id": "e30312fd",
   "metadata": {},
   "source": [
    "#### d)"
   ]
  },
  {
   "cell_type": "code",
   "execution_count": 20,
   "id": "47a60157",
   "metadata": {},
   "outputs": [],
   "source": [
    "hw5bdata = sio.loadmat('hw5bdata.mat')\n",
    "faces = hw5bdata['faces']\n",
    "dog = hw5bdata['dog']\n",
    "x = hw5bdata['x']"
   ]
  },
  {
   "cell_type": "code",
   "execution_count": 21,
   "id": "3a75dfe5",
   "metadata": {},
   "outputs": [
    {
     "data": {
      "image/png": "[encoded data removed]",
      "text/plain": [
       "<Figure size 432x288 with 1 Axes>"
      ]
     },
     "metadata": {
      "needs_background": "light"
     },
     "output_type": "display_data"
    }
   ],
   "source": [
    "def viewcolumn(columnvector):\n",
    "    plt.imshow(columnvector.reshape([60, 60], order='F'), cmap=plt.get_cmap('gray'))\n",
    "#i)\n",
    "viewcolumn(faces[:, 4])"
   ]
  },
  {
   "cell_type": "code",
   "execution_count": 22,
   "id": "43acf8e8",
   "metadata": {},
   "outputs": [
    {
     "data": {
      "image/png": "[encoded data removed]",
      "text/plain": [
       "<Figure size 432x288 with 1 Axes>"
      ]
     },
     "metadata": {
      "needs_background": "light"
     },
     "output_type": "display_data"
    }
   ],
   "source": [
    "#ii)\n",
    "mean_face = np.mean(faces, axis = 1)\n",
    "mean_face = mean_face[:, np.newaxis]\n",
    "viewcolumn(mean_face)"
   ]
  },
  {
   "cell_type": "code",
   "execution_count": 23,
   "id": "a666cae1",
   "metadata": {},
   "outputs": [],
   "source": [
    "#iii)\n",
    "A = faces - np.matlib.repmat(mean_face, 1, 48)"
   ]
  },
  {
   "cell_type": "code",
   "execution_count": 24,
   "id": "23e03b94",
   "metadata": {},
   "outputs": [],
   "source": [
    "#iv)\n",
    "eigenvalues, V_old = np.linalg.eig(A.T.dot(A))"
   ]
  },
  {
   "cell_type": "code",
   "execution_count": 25,
   "id": "4dccacc2",
   "metadata": {},
   "outputs": [],
   "source": [
    "#v)\n",
    "V, D = eigsort(V_old, eigenvalues)"
   ]
  },
  {
   "cell_type": "code",
   "execution_count": 26,
   "id": "0763e615",
   "metadata": {},
   "outputs": [],
   "source": [
    "#vi)\n",
    "U = A.dot(V)"
   ]
  },
  {
   "cell_type": "code",
   "execution_count": 27,
   "id": "75d449b2",
   "metadata": {},
   "outputs": [],
   "source": [
    "#vii)\n",
    "def normc(Mat):\n",
    "    return normalize(Mat, norm='l2', axis=0)\n",
    "\n",
    "U = normc(U)"
   ]
  },
  {
   "cell_type": "markdown",
   "id": "7b951c4a",
   "metadata": {},
   "source": [
    "#### e)"
   ]
  },
  {
   "cell_type": "code",
   "execution_count": 28,
   "id": "547f249a",
   "metadata": {},
   "outputs": [],
   "source": [
    "# This code makes use of matrix multiplication and the np.dot() function (which performs the\n",
    "# dot product of two arrays). To calculate the dot product we use the indexed column from \n",
    "#the previous question and we use np.newaxis to increase the dimension of the existing \n",
    "#array by another dimension and subtract the mean_face from it so that we get the new data-\n",
    "#aligned coordinate space. All of this is assigned to 'c' and it is the principal component\n",
    "#coordinates.\n",
    "c = U.T.dot(faces[:, 4][:, np.newaxis] - mean_face)"
   ]
  },
  {
   "cell_type": "markdown",
   "id": "f3c3e992",
   "metadata": {},
   "source": [
    "#### f)"
   ]
  },
  {
   "cell_type": "code",
   "execution_count": 29,
   "id": "0153cc52",
   "metadata": {},
   "outputs": [
    {
     "data": {
      "image/png": "[encoded data removed]",
      "text/plain": [
       "<Figure size 432x288 with 1 Axes>"
      ]
     },
     "metadata": {
      "needs_background": "light"
     },
     "output_type": "display_data"
    }
   ],
   "source": [
    "#i)\n",
    "viewcolumn(U[:, 2])\n",
    "plt.savefig('hw5F1.jpg')"
   ]
  },
  {
   "cell_type": "code",
   "execution_count": 30,
   "id": "226adeb6",
   "metadata": {},
   "outputs": [
    {
     "data": {
      "image/png": "[encoded data removed]",
      "text/plain": [
       "<Figure size 432x288 with 1 Axes>"
      ]
     },
     "metadata": {
      "needs_background": "light"
     },
     "output_type": "display_data"
    }
   ],
   "source": [
    "#ii)\n",
    "Z = U.dot(c) + mean_face\n",
    "viewcolumn(Z)"
   ]
  },
  {
   "cell_type": "code",
   "execution_count": 31,
   "id": "986787b8",
   "metadata": {},
   "outputs": [
    {
     "data": {
      "image/png": "[encoded data removed]",
      "text/plain": [
       "<Figure size 432x288 with 1 Axes>"
      ]
     },
     "metadata": {
      "needs_background": "light"
     },
     "output_type": "display_data"
    }
   ],
   "source": [
    "#iii)\n",
    "Z = U[:, :10].dot(c[:10, :]) + mean_face\n",
    "viewcolumn(Z)\n",
    "plt.savefig('hw5F3.jpg')"
   ]
  },
  {
   "cell_type": "markdown",
   "id": "bd0b363a",
   "metadata": {},
   "source": [
    "#### g)"
   ]
  },
  {
   "cell_type": "code",
   "execution_count": 32,
   "id": "92624f00",
   "metadata": {},
   "outputs": [
    {
     "data": {
      "image/png": "[encoded data removed]",
      "text/plain": [
       "<Figure size 432x288 with 1 Axes>"
      ]
     },
     "metadata": {
      "needs_background": "light"
     },
     "output_type": "display_data"
    }
   ],
   "source": [
    "#i)\n",
    "viewcolumn(dog)"
   ]
  },
  {
   "cell_type": "code",
   "execution_count": 33,
   "id": "4a941605",
   "metadata": {},
   "outputs": [],
   "source": [
    "#ii)\n",
    "c = U.T.dot(dog - mean_face)"
   ]
  },
  {
   "cell_type": "code",
   "execution_count": 34,
   "id": "f09b6cc9",
   "metadata": {},
   "outputs": [
    {
     "data": {
      "image/png": "[encoded data removed]",
      "text/plain": [
       "<Figure size 432x288 with 1 Axes>"
      ]
     },
     "metadata": {
      "needs_background": "light"
     },
     "output_type": "display_data"
    }
   ],
   "source": [
    "#iii)\n",
    "Z = U.dot(c) + mean_face\n",
    "viewcolumn(Z)\n",
    "plt.savefig('hw4H.jpg')"
   ]
  },
  {
   "cell_type": "code",
   "execution_count": 35,
   "id": "350ca380",
   "metadata": {},
   "outputs": [],
   "source": [
    "#iv)\n",
    "# It does not look like the original picture at all. The reconstruction finds the closest\n",
    "# image to match in the face space, so when using the image of the dog, it becomes very\n",
    "# apparent that the dog does not lie in the face space (it's not even close to it)."
   ]
  },
  {
   "cell_type": "markdown",
   "id": "3c7a7759",
   "metadata": {},
   "source": [
    "#### h)"
   ]
  },
  {
   "cell_type": "code",
   "execution_count": 36,
   "id": "cb02c320",
   "metadata": {},
   "outputs": [],
   "source": [
    "#i)\n",
    "newfaces = np.delete(faces,np.s_[3:6],axis=1)\n",
    "mean_newface = np.mean(newfaces, axis=1)\n",
    "mean_newface = mean_newface[:, np.newaxis]\n",
    "R = newfaces - repmat(mean_newface, 1, 45)\n",
    "eigenvalues, V_old = np.linalg.eig(R.T.dot(R))\n",
    "V, D = eigsort(V_old, eigenvalues)\n",
    "U = R.dot(V)\n",
    "U = normc(U)"
   ]
  },
  {
   "cell_type": "code",
   "execution_count": 37,
   "id": "5191845c",
   "metadata": {},
   "outputs": [
    {
     "data": {
      "image/png": "[encoded data removed]",
      "text/plain": [
       "<Figure size 432x288 with 1 Axes>"
      ]
     },
     "metadata": {
      "needs_background": "light"
     },
     "output_type": "display_data"
    }
   ],
   "source": [
    "#ii)\n",
    "viewcolumn(faces[:, 3])\n",
    "plt.savefig('hw5H2')"
   ]
  },
  {
   "cell_type": "code",
   "execution_count": 38,
   "id": "5d986583",
   "metadata": {},
   "outputs": [
    {
     "data": {
      "image/png": "[encoded data removed]",
      "text/plain": [
       "<Figure size 432x288 with 1 Axes>"
      ]
     },
     "metadata": {
      "needs_background": "light"
     },
     "output_type": "display_data"
    }
   ],
   "source": [
    "#iii)\n",
    "c = U.T.dot(faces[:, 3][:, np.newaxis] - mean_newface)\n",
    "Z = U.dot(c) + mean_newface\n",
    "viewcolumn(Z)\n",
    "plt.savefig('hw5H3')"
   ]
  },
  {
   "cell_type": "code",
   "execution_count": 40,
   "id": "62879259",
   "metadata": {},
   "outputs": [],
   "source": [
    "#iv)\n",
    "# I think while the face space represents faces much better than the dog, it still isn't \n",
    "# absolutely perfect. When the faces that were not in the first data space are aligned the\n",
    "# same way as the original data, the face space represents the faces fairly decently, but it\n",
    "# would be interesting to see the faces aligned in a way that is not the same as previous\n",
    "# data."
   ]
  }
 ],
 "metadata": {
  "kernelspec": {
   "display_name": "Python 3 (ipykernel)",
   "language": "python",
   "name": "python3"
  },
  "language_info": {
   "codemirror_mode": {
    "name": "ipython",
    "version": 3
   },
   "file_extension": ".py",
   "mimetype": "text/x-python",
   "name": "python",
   "nbconvert_exporter": "python",
   "pygments_lexer": "ipython3",
   "version": "3.9.7"
  }
 },
 "nbformat": 4,
 "nbformat_minor": 5
}
